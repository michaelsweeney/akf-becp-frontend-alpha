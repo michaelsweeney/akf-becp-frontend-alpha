{
 "cells": [
  {
   "cell_type": "code",
   "execution_count": 1,
   "metadata": {},
   "outputs": [
    {
     "data": {
      "text/plain": [
       "{'emissions_thresholds': [{'period': '2024-2029', 'val': 455.22},\n",
       "  {'period': '2030-2034', 'val': 239.1},\n",
       "  {'period': '2035-', 'val': 74.2}],\n",
       " 'emissions_thresholds_per_sf': [{'period': '2024-2029',\n",
       "   'val': 8.589056603773585},\n",
       "  {'period': '2030-2034', 'val': 4.511320754716981},\n",
       "  {'period': '2035-', 'val': 1.4}],\n",
       " 'annual_building_carbon_tons': 327.6209246,\n",
       " 'carbon_above_thresholds': [{'val': -127.5990754, 'period': '2024-2029'},\n",
       "  {'val': 88.52092460000003, 'period': '2030-2034'},\n",
       "  {'val': 253.42092460000003, 'period': '2035-'}],\n",
       " 'annual_penalties': [{'penalty': 0, 'period': '2024-2029'},\n",
       "  {'penalty': 23723.60779280001, 'period': '2030-2034'},\n",
       "  {'penalty': 67916.80779280001, 'period': '2035-'}]}"
      ]
     },
     "execution_count": 1,
     "metadata": {},
     "output_type": "execute_result"
    }
   ],
   "source": [
    "import json\n",
    "import requests\n",
    "config = {\n",
    "        'types': [\n",
    "            {'type': 'B_norm', 'area': 50000},\n",
    "            {'type': 'A', 'area': 3000},\n",
    "        ],\n",
    "        'utilities': [\n",
    "            {'type': 'electricity', 'val': 950000 * 3.412},  # kbtu\n",
    "            {'type': 'natural_gas', 'val': 10000 * 100},  # kbtu\n",
    "        ]\n",
    "    }\n",
    "\n",
    "payload = json.dumps(config)\n",
    "localhost = 'http://127.0.0.1:5000'\n",
    "herokuhost =  'https://akf-becp-pyapi.herokuapp.com/'\n",
    "\n",
    "r = requests.get(\n",
    "    f'{herokuhost}/compliance/compile_ll97_summary/?params={payload}'\n",
    ")\n",
    "\n",
    "js = r.json()\n",
    "\n",
    "js"
   ]
  }
 ],
 "metadata": {
  "interpreter": {
   "hash": "b3ba2566441a7c06988d0923437866b63cedc61552a5af99d1f4fb67d367b25f"
  },
  "kernelspec": {
   "display_name": "Python 3.7.3 ('base')",
   "language": "python",
   "name": "python3"
  },
  "language_info": {
   "codemirror_mode": {
    "name": "ipython",
    "version": 3
   },
   "file_extension": ".py",
   "mimetype": "text/x-python",
   "name": "python",
   "nbconvert_exporter": "python",
   "pygments_lexer": "ipython3",
   "version": "3.7.3"
  },
  "orig_nbformat": 4
 },
 "nbformat": 4,
 "nbformat_minor": 2
}
