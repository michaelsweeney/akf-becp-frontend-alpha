{
 "cells": [
  {
   "cell_type": "code",
   "execution_count": 1,
   "metadata": {},
   "outputs": [
    {
     "data": {
      "text/plain": [
       "{'emissions_thresholds': [455.22, 239.1, 74.2],\n",
       " 'annual_building_carbon_tons': 327.6209246,\n",
       " 'carbon_above_thresholds': [-127.5990754,\n",
       "  88.52092460000003,\n",
       "  253.42092460000003],\n",
       " 'annual_penalties': [0, 23723.60779280001, 67916.80779280001]}"
      ]
     },
     "execution_count": 1,
     "metadata": {},
     "output_type": "execute_result"
    }
   ],
   "source": [
    "import json\n",
    "import requests\n",
    "config = {\n",
    "        'types': [\n",
    "            {'type': 'B_norm', 'area': 50000},\n",
    "            {'type': 'A', 'area': 3000},\n",
    "        ],\n",
    "        'utilities': [\n",
    "            {'type': 'electricity', 'val': 950000 * 3.412},  # kbtu\n",
    "            {'type': 'natural_gas', 'val': 10000 * 100},  # kbtu\n",
    "        ]\n",
    "    }\n",
    "\n",
    "\n",
    "payload = json.dumps(config)\n",
    "localhost = 'http://127.0.0.1:5000'\n",
    "herokuhost =  'https://akf-becp-pyapi.herokuapp.com/'\n",
    "\n",
    "r = requests.get(\n",
    "    f'{herokuhost}/compliance/compile_ll97_summary/?params={payload}'\n",
    ")\n",
    "\n",
    "js = r.json()\n",
    "\n",
    "js"
   ]
  }
 ],
 "metadata": {
  "interpreter": {
   "hash": "b3ba2566441a7c06988d0923437866b63cedc61552a5af99d1f4fb67d367b25f"
  },
  "kernelspec": {
   "display_name": "Python 3.7.3 ('base')",
   "language": "python",
   "name": "python3"
  },
  "language_info": {
   "codemirror_mode": {
    "name": "ipython",
    "version": 3
   },
   "file_extension": ".py",
   "mimetype": "text/x-python",
   "name": "python",
   "nbconvert_exporter": "python",
   "pygments_lexer": "ipython3",
   "version": "3.7.3"
  },
  "orig_nbformat": 4
 },
 "nbformat": 4,
 "nbformat_minor": 2
}
